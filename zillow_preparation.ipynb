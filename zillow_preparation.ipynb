{
 "cells": [
  {
   "cell_type": "code",
   "execution_count": 24,
   "id": "c5551a62",
   "metadata": {},
   "outputs": [],
   "source": [
    "import pandas as pd\n",
    "import numpy as np\n",
    "from acquire import get_zillow_data\n",
    "import wrangle_zillow"
   ]
  },
  {
   "cell_type": "code",
   "execution_count": 2,
   "id": "331db044",
   "metadata": {},
   "outputs": [],
   "source": [
    "def fill_nulls(df):\n",
    "    \n",
    "    df.poolcnt = df.poolcnt.fillna(0)\n",
    "    df.fireplacecnt = df.fireplacecnt.fillna(0)\n",
    "    df.heatingorsystemdesc = df.heatingorsystemdesc.fillna('None')\n",
    "    df.unitcnt = df.unitcnt.fillna(1)\n",
    "    return df"
   ]
  },
  {
   "cell_type": "code",
   "execution_count": 3,
   "id": "5722a8d7",
   "metadata": {},
   "outputs": [],
   "source": [
    "def remove_outliers(df):\n",
    "    #filter out bedrooms and bathrooms == 0\n",
    "    df = df[(df.bedroomcnt > 0) & (df.bedroomcnt <= 7) & (df.bathroomcnt > 0) & (df.bathroomcnt <= 7)]\n",
    "    #filter out houses less than 400 square feet\n",
    "    df = df[(df.calculatedfinishedsquarefeet > 400) & (df.calculatedfinishedsquarefeet < 7000)]\n",
    "    #filter out all units not equal to 1\n",
    "    df = df[df.unitcnt == 1]\n",
    "    #removing heating or system source outliers\n",
    "    df = df[~df.heatingorsystemdesc.isin(['Yes', 'Gravity', 'Radiant', 'Baseboard', 'Solar', 'Forced air'])]\n",
    "    return df"
   ]
  },
  {
   "cell_type": "code",
   "execution_count": 4,
   "id": "c7f4110d",
   "metadata": {},
   "outputs": [],
   "source": [
    "def create_features(df):\n",
    "    df['age'] = 2017 - df.yearbuilt\n",
    "    # create taxrate variable\n",
    "    df['taxrate'] = df.taxamount/df.taxvaluedollarcnt\n",
    "    # create acres variable\n",
    "    df['acres'] = df.lotsizesquarefeet/43560\n",
    "    # dollar per square foot-structure\n",
    "    df['structure_dollar_per_sqft'] = df.structuretaxvaluedollarcnt/df.calculatedfinishedsquarefeet\n",
    "    # dollar per square foot-land\n",
    "    df['land_dollar_per_sqft'] = df.landtaxvaluedollarcnt/df.lotsizesquarefeet\n",
    "    # ratio of beds to baths\n",
    "    df['bed_bath_ratio'] = df.bedroomcnt/df.bathroomcnt\n",
    "    #changing numbered labels into appropriate names\n",
    "    df['county'] = df.fips.replace([6037, 6059, 6111],['los_angeles', 'orange', 'ventura'])\n",
    "    df.heatingorsystemdesc = df.heatingorsystemdesc.replace(['Central', 'Floor/Wall', 'None'], ['central_heating', 'floor_wall_heating', 'no_heating'])\n",
    "    #creating dummy variables\n",
    "    county_df = pd.get_dummies(df.county)\n",
    "    heating_or_system_df = pd.get_dummies(df.heatingorsystemdesc)\n",
    "    #adding dummies back into main dataframe\n",
    "    df = pd.concat([df, county_df, heating_or_system_df], axis=1)\n",
    "    #duplicating logerror so it will be at the end of the list\n",
    "    df['error'] = df.logerror\n",
    "    #filter out outliers on new features\n",
    "    df = df[(df.acres < 10) & (df.taxrate < .05)]\n",
    "    #drop duplicate columns\n",
    "    df = df.drop(columns = ['bathroomcnt', 'county', 'taxamount', 'taxvaluedollarcnt', \n",
    "                       'structuretaxvaluedollarcnt', 'landtaxvaluedollarcnt', \n",
    "                       'yearbuilt', 'lotsizesquarefeet', 'logerror', 'heatingorsystemdesc'])\n",
    "    return df"
   ]
  },
  {
   "cell_type": "code",
   "execution_count": 5,
   "id": "c30b6957",
   "metadata": {},
   "outputs": [],
   "source": [
    "def handle_missing_values(df, prop_required_column, prop_required_row):\n",
    "    '''\n",
    "    This function takes in a Dataframe, \n",
    "    proportion(0-1) of nulls required for a column\n",
    "    and a proportion(0-1) of nulls required for rows\n",
    "    then returns a dataframe without the nulls \n",
    "    under the threshold\n",
    "    '''\n",
    "    #setting threshold for row, only accepts integer\n",
    "    thresh_row = int(round(prop_required_column*df.shape[0],0))\n",
    "    #dropping nulls under threshold\n",
    "    df.dropna(axis=1, thresh=thresh_row, inplace=True)\n",
    "    #setting threshold for columns, only accepts integer\n",
    "    thresh_col = int(round(prop_required_row*df.shape[1],0))\n",
    "    #dropping nulls under threshold\n",
    "    df.dropna(axis=0, thresh=thresh_col, inplace=True)\n",
    "    return df "
   ]
  },
  {
   "cell_type": "code",
   "execution_count": 6,
   "id": "8ab2d5b3",
   "metadata": {},
   "outputs": [],
   "source": [
    "df = get_zillow_data()\n"
   ]
  },
  {
   "cell_type": "code",
   "execution_count": 7,
   "id": "7d48f4e5",
   "metadata": {},
   "outputs": [],
   "source": [
    "#filling nulls with appropriate values\n",
    "df = fill_nulls(df)"
   ]
  },
  {
   "cell_type": "code",
   "execution_count": 8,
   "id": "44f45e76",
   "metadata": {},
   "outputs": [],
   "source": [
    "df = remove_outliers(df)\n"
   ]
  },
  {
   "cell_type": "code",
   "execution_count": 9,
   "id": "96bfeeb8",
   "metadata": {},
   "outputs": [],
   "source": [
    "df = create_features(df)\n"
   ]
  },
  {
   "cell_type": "code",
   "execution_count": 10,
   "id": "7ee8932e",
   "metadata": {},
   "outputs": [],
   "source": [
    "#filter out columns and rows with more than 40% null values\n",
    "df = handle_missing_values(df, .6, .6)"
   ]
  },
  {
   "cell_type": "code",
   "execution_count": null,
   "id": "3b2aae94",
   "metadata": {},
   "outputs": [],
   "source": [
    "#drop duplicate or unnecessary columns\n",
    "df = df.drop(columns = ['propertylandusetypeid', 'propertycountylandusecode', 'propertylandusedesc',\n",
    "                             'calculatedbathnbr', 'finishedsquarefeet12', 'heatingorsystemtypeid', \n",
    "                            'id', 'fips', 'fullbathcnt', 'propertyzoningdesc', 'unitcnt',\n",
    "                            'regionidcounty', 'id.1', 'assessmentyear', 'censustractandblock', 'rawcensustractandblock', 'buildingqualitytypeid'])"
   ]
  },
  {
   "cell_type": "code",
   "execution_count": 32,
   "id": "abd8b1bb",
   "metadata": {},
   "outputs": [
    {
     "data": {
      "text/plain": [
       "139.0"
      ]
     },
     "execution_count": 32,
     "metadata": {},
     "output_type": "execute_result"
    }
   ],
   "source": [
    "df.age.max()"
   ]
  },
  {
   "cell_type": "code",
   "execution_count": 12,
   "id": "45398db6",
   "metadata": {},
   "outputs": [],
   "source": [
    "df.dropna(inplace = True)\n"
   ]
  },
  {
   "cell_type": "code",
   "execution_count": 13,
   "id": "e5ea8602",
   "metadata": {},
   "outputs": [],
   "source": [
    "def zillow_split(df):\n",
    "    '''\n",
    "    This function splits a dataframe into train, validate, and test sets\n",
    "    '''\n",
    "    train_and_validate, test = train_test_split(df, train_size=.8, random_state=123)\n",
    "    train, validate = train_test_split(train_and_validate, train_size = .7, random_state=123)\n",
    "    return train, validate, test"
   ]
  },
  {
   "cell_type": "code",
   "execution_count": 14,
   "id": "dcf8396f",
   "metadata": {},
   "outputs": [],
   "source": [
    "from sklearn.model_selection import train_test_split\n"
   ]
  },
  {
   "cell_type": "code",
   "execution_count": 27,
   "id": "3be39b8e",
   "metadata": {},
   "outputs": [],
   "source": [
    "train, validate, test = zillow_split(df)\n"
   ]
  },
  {
   "cell_type": "code",
   "execution_count": 16,
   "id": "2f49060e",
   "metadata": {},
   "outputs": [
    {
     "name": "stderr",
     "output_type": "stream",
     "text": [
      "/opt/homebrew/anaconda3/lib/python3.9/site-packages/pandas/core/generic.py:6392: SettingWithCopyWarning: \n",
      "A value is trying to be set on a copy of a slice from a DataFrame\n",
      "\n",
      "See the caveats in the documentation: https://pandas.pydata.org/pandas-docs/stable/user_guide/indexing.html#returning-a-view-versus-a-copy\n",
      "  return self._update_inplace(result)\n"
     ]
    }
   ],
   "source": [
    "cols_fixed = ['buildingqualitytypeid', 'regionidcity', 'regionidzip', 'age']\n",
    "for col in cols_fixed:\n",
    "    mode = int(train[col].mode())\n",
    "    train[col].fillna(value = mode, inplace = True)\n",
    "    validate[col].fillna(value = mode, inplace = True)\n",
    "    test[col].fillna(value = mode, inplace = True)"
   ]
  },
  {
   "cell_type": "code",
   "execution_count": 17,
   "id": "16f62d6c",
   "metadata": {},
   "outputs": [],
   "source": [
    "#missing continuous values will be replaced with the median\n",
    "cols_cont = ['taxrate', 'acres', 'structure_dollar_per_sqft', 'land_dollar_per_sqft']\n",
    "for col in cols_cont:\n",
    "    median = train[col].median()\n",
    "    train[col].fillna(median, inplace=True)\n",
    "    validate[col].fillna(median, inplace=True)\n",
    "    test[col].fillna(median, inplace=True)"
   ]
  },
  {
   "cell_type": "code",
   "execution_count": 18,
   "id": "b1e057f0",
   "metadata": {},
   "outputs": [
    {
     "name": "stdout",
     "output_type": "stream",
     "text": [
      "<class 'pandas.core.frame.DataFrame'>\n",
      "Int64Index: 17859 entries, 1932 to 7053\n",
      "Data columns (total 41 columns):\n",
      " #   Column                        Non-Null Count  Dtype  \n",
      "---  ------                        --------------  -----  \n",
      " 0   parcelid                      17859 non-null  int64  \n",
      " 1   propertylandusetypeid         17859 non-null  float64\n",
      " 2   heatingorsystemtypeid         17859 non-null  float64\n",
      " 3   id                            17859 non-null  int64  \n",
      " 4   bedroomcnt                    17859 non-null  float64\n",
      " 5   buildingqualitytypeid         17859 non-null  float64\n",
      " 6   calculatedbathnbr             17859 non-null  float64\n",
      " 7   calculatedfinishedsquarefeet  17859 non-null  float64\n",
      " 8   finishedsquarefeet12          17859 non-null  float64\n",
      " 9   fips                          17859 non-null  float64\n",
      " 10  fireplacecnt                  17859 non-null  float64\n",
      " 11  fullbathcnt                   17859 non-null  float64\n",
      " 12  latitude                      17859 non-null  float64\n",
      " 13  longitude                     17859 non-null  float64\n",
      " 14  poolcnt                       17859 non-null  float64\n",
      " 15  propertycountylandusecode     17859 non-null  object \n",
      " 16  propertyzoningdesc            17859 non-null  object \n",
      " 17  rawcensustractandblock        17859 non-null  float64\n",
      " 18  regionidcity                  17859 non-null  float64\n",
      " 19  regionidcounty                17859 non-null  float64\n",
      " 20  regionidzip                   17859 non-null  float64\n",
      " 21  roomcnt                       17859 non-null  float64\n",
      " 22  unitcnt                       17859 non-null  float64\n",
      " 23  assessmentyear                17859 non-null  float64\n",
      " 24  censustractandblock           17859 non-null  float64\n",
      " 25  id.1                          17859 non-null  int64  \n",
      " 26  transactiondate               17859 non-null  object \n",
      " 27  propertylandusedesc           17859 non-null  object \n",
      " 28  age                           17859 non-null  float64\n",
      " 29  taxrate                       17859 non-null  float64\n",
      " 30  acres                         17859 non-null  float64\n",
      " 31  structure_dollar_per_sqft     17859 non-null  float64\n",
      " 32  land_dollar_per_sqft          17859 non-null  float64\n",
      " 33  bed_bath_ratio                17859 non-null  float64\n",
      " 34  los_angeles                   17859 non-null  uint8  \n",
      " 35  orange                        17859 non-null  uint8  \n",
      " 36  ventura                       17859 non-null  uint8  \n",
      " 37  central_heating               17859 non-null  uint8  \n",
      " 38  floor_wall_heating            17859 non-null  uint8  \n",
      " 39  no_heating                    17859 non-null  uint8  \n",
      " 40  error                         17859 non-null  float64\n",
      "dtypes: float64(28), int64(3), object(4), uint8(6)\n",
      "memory usage: 5.0+ MB\n"
     ]
    }
   ],
   "source": [
    "train.info()\n"
   ]
  },
  {
   "cell_type": "code",
   "execution_count": 19,
   "id": "ef32c57c",
   "metadata": {},
   "outputs": [
    {
     "name": "stdout",
     "output_type": "stream",
     "text": [
      "<class 'pandas.core.frame.DataFrame'>\n",
      "Int64Index: 7655 entries, 46412 to 3447\n",
      "Data columns (total 41 columns):\n",
      " #   Column                        Non-Null Count  Dtype  \n",
      "---  ------                        --------------  -----  \n",
      " 0   parcelid                      7655 non-null   int64  \n",
      " 1   propertylandusetypeid         7655 non-null   float64\n",
      " 2   heatingorsystemtypeid         7655 non-null   float64\n",
      " 3   id                            7655 non-null   int64  \n",
      " 4   bedroomcnt                    7655 non-null   float64\n",
      " 5   buildingqualitytypeid         7655 non-null   float64\n",
      " 6   calculatedbathnbr             7655 non-null   float64\n",
      " 7   calculatedfinishedsquarefeet  7655 non-null   float64\n",
      " 8   finishedsquarefeet12          7655 non-null   float64\n",
      " 9   fips                          7655 non-null   float64\n",
      " 10  fireplacecnt                  7655 non-null   float64\n",
      " 11  fullbathcnt                   7655 non-null   float64\n",
      " 12  latitude                      7655 non-null   float64\n",
      " 13  longitude                     7655 non-null   float64\n",
      " 14  poolcnt                       7655 non-null   float64\n",
      " 15  propertycountylandusecode     7655 non-null   object \n",
      " 16  propertyzoningdesc            7655 non-null   object \n",
      " 17  rawcensustractandblock        7655 non-null   float64\n",
      " 18  regionidcity                  7655 non-null   float64\n",
      " 19  regionidcounty                7655 non-null   float64\n",
      " 20  regionidzip                   7655 non-null   float64\n",
      " 21  roomcnt                       7655 non-null   float64\n",
      " 22  unitcnt                       7655 non-null   float64\n",
      " 23  assessmentyear                7655 non-null   float64\n",
      " 24  censustractandblock           7655 non-null   float64\n",
      " 25  id.1                          7655 non-null   int64  \n",
      " 26  transactiondate               7655 non-null   object \n",
      " 27  propertylandusedesc           7655 non-null   object \n",
      " 28  age                           7655 non-null   float64\n",
      " 29  taxrate                       7655 non-null   float64\n",
      " 30  acres                         7655 non-null   float64\n",
      " 31  structure_dollar_per_sqft     7655 non-null   float64\n",
      " 32  land_dollar_per_sqft          7655 non-null   float64\n",
      " 33  bed_bath_ratio                7655 non-null   float64\n",
      " 34  los_angeles                   7655 non-null   uint8  \n",
      " 35  orange                        7655 non-null   uint8  \n",
      " 36  ventura                       7655 non-null   uint8  \n",
      " 37  central_heating               7655 non-null   uint8  \n",
      " 38  floor_wall_heating            7655 non-null   uint8  \n",
      " 39  no_heating                    7655 non-null   uint8  \n",
      " 40  error                         7655 non-null   float64\n",
      "dtypes: float64(28), int64(3), object(4), uint8(6)\n",
      "memory usage: 2.1+ MB\n"
     ]
    }
   ],
   "source": [
    "validate.info()\n"
   ]
  },
  {
   "cell_type": "code",
   "execution_count": 20,
   "id": "d9faf1e2",
   "metadata": {},
   "outputs": [
    {
     "name": "stdout",
     "output_type": "stream",
     "text": [
      "<class 'pandas.core.frame.DataFrame'>\n",
      "Int64Index: 6379 entries, 26893 to 12755\n",
      "Data columns (total 41 columns):\n",
      " #   Column                        Non-Null Count  Dtype  \n",
      "---  ------                        --------------  -----  \n",
      " 0   parcelid                      6379 non-null   int64  \n",
      " 1   propertylandusetypeid         6379 non-null   float64\n",
      " 2   heatingorsystemtypeid         6379 non-null   float64\n",
      " 3   id                            6379 non-null   int64  \n",
      " 4   bedroomcnt                    6379 non-null   float64\n",
      " 5   buildingqualitytypeid         6379 non-null   float64\n",
      " 6   calculatedbathnbr             6379 non-null   float64\n",
      " 7   calculatedfinishedsquarefeet  6379 non-null   float64\n",
      " 8   finishedsquarefeet12          6379 non-null   float64\n",
      " 9   fips                          6379 non-null   float64\n",
      " 10  fireplacecnt                  6379 non-null   float64\n",
      " 11  fullbathcnt                   6379 non-null   float64\n",
      " 12  latitude                      6379 non-null   float64\n",
      " 13  longitude                     6379 non-null   float64\n",
      " 14  poolcnt                       6379 non-null   float64\n",
      " 15  propertycountylandusecode     6379 non-null   object \n",
      " 16  propertyzoningdesc            6379 non-null   object \n",
      " 17  rawcensustractandblock        6379 non-null   float64\n",
      " 18  regionidcity                  6379 non-null   float64\n",
      " 19  regionidcounty                6379 non-null   float64\n",
      " 20  regionidzip                   6379 non-null   float64\n",
      " 21  roomcnt                       6379 non-null   float64\n",
      " 22  unitcnt                       6379 non-null   float64\n",
      " 23  assessmentyear                6379 non-null   float64\n",
      " 24  censustractandblock           6379 non-null   float64\n",
      " 25  id.1                          6379 non-null   int64  \n",
      " 26  transactiondate               6379 non-null   object \n",
      " 27  propertylandusedesc           6379 non-null   object \n",
      " 28  age                           6379 non-null   float64\n",
      " 29  taxrate                       6379 non-null   float64\n",
      " 30  acres                         6379 non-null   float64\n",
      " 31  structure_dollar_per_sqft     6379 non-null   float64\n",
      " 32  land_dollar_per_sqft          6379 non-null   float64\n",
      " 33  bed_bath_ratio                6379 non-null   float64\n",
      " 34  los_angeles                   6379 non-null   uint8  \n",
      " 35  orange                        6379 non-null   uint8  \n",
      " 36  ventura                       6379 non-null   uint8  \n",
      " 37  central_heating               6379 non-null   uint8  \n",
      " 38  floor_wall_heating            6379 non-null   uint8  \n",
      " 39  no_heating                    6379 non-null   uint8  \n",
      " 40  error                         6379 non-null   float64\n",
      "dtypes: float64(28), int64(3), object(4), uint8(6)\n",
      "memory usage: 1.8+ MB\n"
     ]
    }
   ],
   "source": [
    "test.info()"
   ]
  },
  {
   "cell_type": "code",
   "execution_count": 21,
   "id": "074359b5",
   "metadata": {},
   "outputs": [],
   "source": [
    "def scaled_zillow_columns(cached = True):\n",
    "    '''\n",
    "    This function uses a MinMaxScaler to scale numeric columns\n",
    "    from the wrangle_zillow function\n",
    "    '''\n",
    "    train, validate, test = wrangle_zillow()\n",
    "    columns_to_scale= ['bedroomcnt', 'buildingqualitytypeid', 'calculatedfinishedsquarefeet', 'fireplacecnt', 'latitude', 'longitude', 'poolcnt', 'regionidcity', 'regionidzip', 'roomcnt', 'age', 'taxrate', 'taxrate', 'acres', 'structure_dollar_per_sqft', 'land_dollar_per_sqft', 'bed_bath_ratio']\n",
    "    #initialize scaler function\n",
    "    scaler = sklearn.preprocessing.MinMaxScaler()\n",
    "    #adds '_scaled' to columns that will be scaled\n",
    "    new_column_names = [c + '_scaled' for c in columns_to_scale]\n",
    "    #fitting columns to be scaled\n",
    "    scaler.fit(train[columns_to_scale])\n",
    "    #adding scaled columns back into their respective dataframes\n",
    "    train = pd.concat([\n",
    "        train,\n",
    "        pd.DataFrame(scaler.transform(train[columns_to_scale]), columns=new_column_names, index=train.index),\n",
    "    ], axis=1)\n",
    "    validate = pd.concat([\n",
    "        validate,\n",
    "        pd.DataFrame(scaler.transform(validate[columns_to_scale]), columns=new_column_names, index=validate.index),\n",
    "    ], axis=1)\n",
    "    test = pd.concat([\n",
    "        test,\n",
    "        pd.DataFrame(scaler.transform(test[columns_to_scale]), columns=new_column_names, index=test.index),\n",
    "    ], axis=1)\n",
    "    \n",
    "    train = train.drop(columns = columns_to_scale)\n",
    "    validate= validate.drop(columns = columns_to_scale)\n",
    "    test = test.drop(columns = columns_to_scale)"
   ]
  },
  {
   "cell_type": "code",
   "execution_count": null,
   "id": "af0a0b3b",
   "metadata": {},
   "outputs": [],
   "source": []
  },
  {
   "cell_type": "code",
   "execution_count": 28,
   "id": "e9668aef",
   "metadata": {},
   "outputs": [],
   "source": [
    "train_scaled, validate_scaled, test_scaled = wrangle_zillow.scaled_zillow_columns()\n"
   ]
  },
  {
   "cell_type": "code",
   "execution_count": 29,
   "id": "27544820",
   "metadata": {},
   "outputs": [
    {
     "name": "stdout",
     "output_type": "stream",
     "text": [
      "<class 'pandas.core.frame.DataFrame'>\n",
      "Int64Index: 27955 entries, 32407 to 16021\n",
      "Data columns (total 26 columns):\n",
      " #   Column                               Non-Null Count  Dtype  \n",
      "---  ------                               --------------  -----  \n",
      " 0   parcelid                             27955 non-null  int64  \n",
      " 1   transactiondate                      27955 non-null  object \n",
      " 2   heatingorsystemdesc                  27955 non-null  object \n",
      " 3   county                               27955 non-null  object \n",
      " 4   los_angeles                          27955 non-null  uint8  \n",
      " 5   orange                               27955 non-null  uint8  \n",
      " 6   ventura                              27955 non-null  uint8  \n",
      " 7   central_heating                      27955 non-null  uint8  \n",
      " 8   floor_wall_heating                   27955 non-null  uint8  \n",
      " 9   no_heating                           27955 non-null  uint8  \n",
      " 10  error                                27955 non-null  float64\n",
      " 11  bedroomcnt_scaled                    27955 non-null  float64\n",
      " 12  calculatedfinishedsquarefeet_scaled  27955 non-null  float64\n",
      " 13  fireplacecnt_scaled                  27955 non-null  float64\n",
      " 14  latitude_scaled                      27955 non-null  float64\n",
      " 15  longitude_scaled                     27955 non-null  float64\n",
      " 16  poolcnt_scaled                       27955 non-null  float64\n",
      " 17  regionidcity_scaled                  27955 non-null  float64\n",
      " 18  regionidzip_scaled                   27955 non-null  float64\n",
      " 19  roomcnt_scaled                       27955 non-null  float64\n",
      " 20  age_scaled                           27955 non-null  float64\n",
      " 21  taxrate_scaled                       27955 non-null  float64\n",
      " 22  acres_scaled                         27955 non-null  float64\n",
      " 23  structure_dollar_per_sqft_scaled     27955 non-null  float64\n",
      " 24  land_dollar_per_sqft_scaled          27955 non-null  float64\n",
      " 25  bed_bath_ratio_scaled                27955 non-null  float64\n",
      "dtypes: float64(16), int64(1), object(3), uint8(6)\n",
      "memory usage: 4.6+ MB\n"
     ]
    }
   ],
   "source": [
    "train_scaled.info()"
   ]
  },
  {
   "cell_type": "code",
   "execution_count": null,
   "id": "c362d3a7",
   "metadata": {},
   "outputs": [],
   "source": []
  },
  {
   "cell_type": "code",
   "execution_count": null,
   "id": "fb74de5e",
   "metadata": {},
   "outputs": [],
   "source": []
  },
  {
   "cell_type": "code",
   "execution_count": null,
   "id": "e0262797",
   "metadata": {},
   "outputs": [],
   "source": []
  },
  {
   "cell_type": "code",
   "execution_count": null,
   "id": "798a188c",
   "metadata": {},
   "outputs": [],
   "source": []
  },
  {
   "cell_type": "code",
   "execution_count": null,
   "id": "b69f437c",
   "metadata": {},
   "outputs": [],
   "source": []
  },
  {
   "cell_type": "code",
   "execution_count": null,
   "id": "6f356df6",
   "metadata": {},
   "outputs": [],
   "source": []
  },
  {
   "cell_type": "code",
   "execution_count": null,
   "id": "3c12e2d6",
   "metadata": {},
   "outputs": [],
   "source": []
  },
  {
   "cell_type": "code",
   "execution_count": null,
   "id": "456efaf3",
   "metadata": {},
   "outputs": [],
   "source": []
  }
 ],
 "metadata": {
  "kernelspec": {
   "display_name": "Python 3 (ipykernel)",
   "language": "python",
   "name": "python3"
  },
  "language_info": {
   "codemirror_mode": {
    "name": "ipython",
    "version": 3
   },
   "file_extension": ".py",
   "mimetype": "text/x-python",
   "name": "python",
   "nbconvert_exporter": "python",
   "pygments_lexer": "ipython3",
   "version": "3.9.7"
  }
 },
 "nbformat": 4,
 "nbformat_minor": 5
}
